{
 "cells": [
  {
   "cell_type": "code",
   "execution_count": 3,
   "metadata": {},
   "outputs": [
    {
     "name": "stdout",
     "output_type": "stream",
     "text": [
      "x你好\n",
      "身高是:169公分\n",
      "體重是:67公斤\n",
      "BMI:23.46\n"
     ]
    }
   ],
   "source": [
    "name = input(\"請輸入姓名\")\n",
    "h = eval(input(\"請輸入身高(公分)\"))\n",
    "w = eval(input(\"請輸入體重(公斤)\"))\n",
    "\n",
    "BMI = w / (h / 100)** 2\n",
    "\n",
    "print(f\"\"\"{name}你好\n",
    "身高是:{h}公分\n",
    "體重是:{w}公斤\n",
    "BMI:{round(BMI,ndigits=2)}\"\"\")"
   ]
  }
 ],
 "metadata": {
  "kernelspec": {
   "display_name": "Python 3",
   "language": "python",
   "name": "python3"
  },
  "language_info": {
   "codemirror_mode": {
    "name": "ipython",
    "version": 3
   },
   "file_extension": ".py",
   "mimetype": "text/x-python",
   "name": "python",
   "nbconvert_exporter": "python",
   "pygments_lexer": "ipython3",
   "version": "3.11.9"
  }
 },
 "nbformat": 4,
 "nbformat_minor": 2
}
