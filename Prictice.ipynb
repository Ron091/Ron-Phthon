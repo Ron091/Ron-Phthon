{
 "cells": [
  {
   "cell_type": "code",
   "execution_count": 3,
   "metadata": {},
   "outputs": [
    {
     "name": "stdout",
     "output_type": "stream",
     "text": [
      "x你好\n",
      "身高是:169公分\n",
      "體重是:67公斤\n",
      "BMI:23.46\n"
     ]
    }
   ],
   "source": [
    "name = input(\"請輸入姓名\")\n",
    "h    = eval(input(\"請輸入身高(公分)\"))\n",
    "w    = eval(input(\"請輸入體重(公斤)\"))\n",
    "\n",
    "BMI = w / (h / 100)** 2\n",
    "\n",
    "print(f\"\"\"{name}你好\n",
    "身高是:{h}公分\n",
    "體重是:{w}公斤\n",
    "BMI:{round(BMI,ndigits=2)}\"\"\")"
   ]
  },
  {
   "cell_type": "code",
   "execution_count": 5,
   "metadata": {},
   "outputs": [
    {
     "name": "stdout",
     "output_type": "stream",
     "text": [
      "格式錯誤\n",
      "應用程式結束\n"
     ]
    }
   ],
   "source": [
    "try:    \n",
    "    number = int(input(\"請輸入一個整數\"))\n",
    "\n",
    "    if(number > 0):\n",
    "        print(f\"{number}為正整數\")\n",
    "\n",
    "    elif(number < 0):\n",
    "        print(f\"{number}為負整數\") \n",
    "\n",
    "    else:\n",
    "        print(f\"{number}為零\")\n",
    "\n",
    "    if(number % 2 == 1):\n",
    "        print(f\"{number}為奇數\")\n",
    "\n",
    "    else:\n",
    "        print(f\"{number}為偶數\")\n",
    "except:\n",
    "    print(\"格式錯誤\")\n",
    "\n",
    "print(\"應用程式結束\")\n",
    "\n"
   ]
  },
  {
   "cell_type": "code",
   "execution_count": 10,
   "metadata": {},
   "outputs": [
    {
     "name": "stdout",
     "output_type": "stream",
     "text": [
      "輸入成績有誤\n",
      "應用程式結束\n"
     ]
    }
   ],
   "source": [
    "try:    \n",
    "    score = int(input(\"請輸入成績\"))\n",
    "    if score > 100 or score < 0:\n",
    "        raise Exception(\"輸入成績有誤\")\n",
    "    if score >= 90:\n",
    "        print(\"成績為:優\")\n",
    "    elif score >= 80:\n",
    "        print(\"成績為:甲\")\n",
    "    elif score >= 70:\n",
    "        print(\"成績為:乙\")\n",
    "    elif score >= 60:\n",
    "        print(\"成績為:丙\")\n",
    "    else:\n",
    "        print(\"成績為:丙\")\n",
    "except Exception as error:\n",
    "    print(error)\n",
    "print(\"應用程式結束\")\n",
    "    \n",
    "\n",
    "\n",
    "\n",
    "\n",
    "\n"
   ]
  }
 ],
 "metadata": {
  "kernelspec": {
   "display_name": "Python 3",
   "language": "python",
   "name": "python3"
  },
  "language_info": {
   "codemirror_mode": {
    "name": "ipython",
    "version": 3
   },
   "file_extension": ".py",
   "mimetype": "text/x-python",
   "name": "python",
   "nbconvert_exporter": "python",
   "pygments_lexer": "ipython3",
   "version": "3.11.9"
  }
 },
 "nbformat": 4,
 "nbformat_minor": 2
}
