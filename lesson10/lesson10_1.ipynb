{
 "cells": [
  {
   "cell_type": "code",
   "execution_count": 4,
   "metadata": {},
   "outputs": [
    {
     "name": "stdout",
     "output_type": "stream",
     "text": [
      "請輸入姓名：1\n",
      "請輸入身高(cm)：170\n",
      "請輸入體重(kg):65\n",
      "1你好\n",
      "身高是：170公分\n",
      "體重是：65公斤\n",
      "BMI:22.49\n",
      "體重正常\n"
     ]
    }
   ],
   "source": [
    "import pyinputplus as pyip\n",
    "\n",
    "class Person():\n",
    "    def __init__(self,n=str,h=int,w=int):\n",
    "        self._name=n\n",
    "        self._weight=w\n",
    "        self._height=h\n",
    "    @property\n",
    "    def name(self):\n",
    "        return self._name\n",
    "    @property\n",
    "    def height(self):\n",
    "        return self._height\n",
    "    @property\n",
    "    def weight(self):\n",
    "        return self._weight\n",
    "    def getbmi(self):\n",
    "        return self._weight/(self._height/100) ** 2\n",
    "    def getstatus(self):\n",
    "        bmi =  self._weight/(self._height/100) ** 2\n",
    "        if bmi >= 35:\n",
    "            return '重度肥胖'\n",
    "        elif bmi >= 30:\n",
    "            return '中度肥胖'\n",
    "        elif bmi >= 27:\n",
    "            return '輕度肥胖'\n",
    "        elif bmi >= 24:\n",
    "            return '體重過重'\n",
    "        elif bmi >= 18.5:\n",
    "            return '體重正常'\n",
    "        else:\n",
    "            self.status= '體重過輕'\n",
    "    def print(self):\n",
    "        print(f\"{P1.name}你好\\n身高是：{P1.height}公分\\n體重是：{P1.weight}公斤\\nBMI:{round(P1.getbmi(),ndigits=2)}\\n{P1.getstatus()}\")\n",
    "        \n",
    "        \n",
    "\n",
    "name = pyip.inputStr(\"請輸入姓名：\")\n",
    "print(name)\n",
    "\n",
    "height = pyip.inputNum(\"請輸入身高(cm)：\")\n",
    "print(height)\n",
    "\n",
    "weight = pyip.inputNum(\"請輸入體重(kg):\")\n",
    "print(weight)\n",
    "\n",
    "\n",
    "P1=Person(name,height,weight)\n",
    "\n",
    "P1.print()\n",
    "\n"
   ]
  }
 ],
 "metadata": {
  "kernelspec": {
   "display_name": "Python 3",
   "language": "python",
   "name": "python3"
  },
  "language_info": {
   "codemirror_mode": {
    "name": "ipython",
    "version": 3
   },
   "file_extension": ".py",
   "mimetype": "text/x-python",
   "name": "python",
   "nbconvert_exporter": "python",
   "pygments_lexer": "ipython3",
   "version": "3.11.9"
  }
 },
 "nbformat": 4,
 "nbformat_minor": 2
}
