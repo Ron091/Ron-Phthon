{
 "cells": [
  {
   "cell_type": "code",
   "execution_count": 8,
   "metadata": {},
   "outputs": [
    {
     "name": "stdout",
     "output_type": "stream",
     "text": [
      "有這個檔\n"
     ]
    }
   ],
   "source": [
    "import os\n",
    "\n",
    "file_path= os.path.abspath(__name__)\n",
    "current_dir_name=os.path.dirname(file_path)\n",
    "file_position=os.path.join(current_dir_name,'data','class.csv')\n",
    "if os.path.isfile(file_position):\n",
    "    print(\"有這個檔\")\n",
    "else:\n",
    "    print(\"沒有這個檔\")\n"
   ]
  },
  {
   "cell_type": "code",
   "execution_count": 12,
   "metadata": {},
   "outputs": [],
   "source": [
    "with open(file_position,mode='w',encoding='utf-8')as file:\n",
    "    file.write('姓名,國文,英文,數學\\n李其融,95,86,78')\n"
   ]
  },
  {
   "cell_type": "code",
   "execution_count": 16,
   "metadata": {},
   "outputs": [
    {
     "data": {
      "text/plain": [
       "{'姓名': '李其融', '國文': 85, '英文': 99, '數學': 88}"
      ]
     },
     "execution_count": 16,
     "metadata": {},
     "output_type": "execute_result"
    }
   ],
   "source": [
    "{'姓名':'李其融',\n",
    " '國文':85,\n",
    " '英文':99,\n",
    " '數學':88}"
   ]
  },
  {
   "cell_type": "code",
   "execution_count": 17,
   "metadata": {},
   "outputs": [
    {
     "data": {
      "text/plain": [
       "[{'姓名': '李其融', '國文': 85, '英文': 99, '數學': 88},\n",
       " {'姓名': 'Ron', '國文': 78, '英文': 87, '數學': 96}]"
      ]
     },
     "execution_count": 17,
     "metadata": {},
     "output_type": "execute_result"
    }
   ],
   "source": [
    "[{'姓名':'李其融',\n",
    " '國文':85,\n",
    " '英文':99,\n",
    " '數學':88}\n",
    " ,\n",
    " {'姓名':'Ron',\n",
    " '國文':78,\n",
    " '英文':87,\n",
    " '數學':96}\n",
    " ]"
   ]
  },
  {
   "cell_type": "code",
   "execution_count": 23,
   "metadata": {},
   "outputs": [],
   "source": [
    "students=list()\n",
    "students.append(\n",
    "{'姓名':'李其融',\n",
    " '國文':85,\n",
    " '英文':99,\n",
    " '數學':88}\n",
    ")\n",
    "students.append(\n",
    "{'姓名':'Ron',\n",
    " '國文':78,\n",
    " '英文':87,\n",
    " '數學':96})\n"
   ]
  },
  {
   "cell_type": "code",
   "execution_count": null,
   "metadata": {},
   "outputs": [],
   "source": [
    "import random\n",
    "with open('names.txt',encoding='utf-8') as file:\n",
    "    contents:str = file.read()\n",
    "    names:list[str] = contents.split(sep='\\n')\n",
    "    students_names = random.choices(names,k=50)\n",
    "students_names\n",
    "students=[]\n",
    "for name in students_names:\n",
    "    chinese=random.randint(50,100)\n",
    "    english=random.randint(50,100)\n",
    "    math=random.randint(50,100)\n",
    "    students.append({'姓名':name,\n",
    "                     '國文':chinese,\n",
    "                     '英文':english,\n",
    "                     '數學':math\n",
    "                     })\n",
    "students\n",
    " \n",
    "\n",
    "\n",
    "\n",
    "\n",
    "\n",
    "\n",
    "\n",
    "\n",
    "    "
   ]
  },
  {
   "cell_type": "code",
   "execution_count": 38,
   "metadata": {},
   "outputs": [],
   "source": [
    "import os\n",
    "import csv\n",
    "import random\n",
    "with open('names.txt',encoding='utf-8') as file:\n",
    "    contents:str = file.read()\n",
    "    names:list[str] = contents.split(sep='\\n')\n",
    "    students_names = random.choices(names,k=50)\n",
    "students_names\n",
    "students=[]\n",
    "for name in students_names:\n",
    "    chinese=random.randint(50,100)\n",
    "    english=random.randint(50,100)\n",
    "    math=random.randint(50,100)\n",
    "    students.append({'姓名':name,\n",
    "                     '國文':chinese,\n",
    "                     '英文':english,\n",
    "                     '數學':math\n",
    "                     })\n",
    "students\n",
    " \n",
    "file_path= os.path.abspath(__name__)\n",
    "current_dir_name=os.path.dirname(file_path)\n",
    "file_position=os.path.join(current_dir_name,'data','person.csv')\n",
    "with open(file_position,mode='w',newline='') as file:\n",
    "    writer = csv.DictWriter(file,['姓名','國文','英文','數學'])\n",
    "    writer.writeheader()\n",
    "    writer.writerows(students)\n"
   ]
  }
 ],
 "metadata": {
  "kernelspec": {
   "display_name": "Python 3",
   "language": "python",
   "name": "python3"
  },
  "language_info": {
   "codemirror_mode": {
    "name": "ipython",
    "version": 3
   },
   "file_extension": ".py",
   "mimetype": "text/x-python",
   "name": "python",
   "nbconvert_exporter": "python",
   "pygments_lexer": "ipython3",
   "version": "3.11.9"
  }
 },
 "nbformat": 4,
 "nbformat_minor": 2
}
