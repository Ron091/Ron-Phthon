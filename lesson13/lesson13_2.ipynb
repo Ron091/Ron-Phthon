{
 "cells": [
  {
   "cell_type": "code",
   "execution_count": 6,
   "metadata": {},
   "outputs": [
    {
     "data": {
      "text/plain": [
       "[0, 2, 4, 6, 8]"
      ]
     },
     "execution_count": 6,
     "metadata": {},
     "output_type": "execute_result"
    }
   ],
   "source": [
    "mylist = []\n",
    "for index in range(10):\n",
    "    if index % 2==0:\n",
    "        mylist.append(index)\n",
    "\n",
    "mylist    "
   ]
  },
  {
   "cell_type": "code",
   "execution_count": 7,
   "metadata": {},
   "outputs": [
    {
     "data": {
      "text/plain": [
       "[0, 2, 4, 6, 8]"
      ]
     },
     "execution_count": 7,
     "metadata": {},
     "output_type": "execute_result"
    }
   ],
   "source": [
    "[index for index in range(10) if index % 2 == 0]"
   ]
  },
  {
   "cell_type": "code",
   "execution_count": 8,
   "metadata": {},
   "outputs": [
    {
     "name": "stdout",
     "output_type": "stream",
     "text": [
      "連線正常\n"
     ]
    }
   ],
   "source": [
    "import requests\n",
    "from pprint import pprint\n",
    "\n",
    "try:\n",
    "    youbike_url = 'https://data.ntpc.gov.tw/api/datasets/010e5b15-3823-4b20-b401-b1cf000550c5/json?size=1000'\n",
    "    response = requests.get(youbike_url)\n",
    "except Exception  as error:\n",
    "    print(error)\n",
    "else:\n",
    "    print(\"連線正常\")\n"
   ]
  },
  {
   "cell_type": "code",
   "execution_count": 15,
   "metadata": {},
   "outputs": [
    {
     "data": {
      "text/plain": [
       "['新店區',\n",
       " '永和區',\n",
       " '土城區',\n",
       " '萬里區',\n",
       " '三峽區',\n",
       " '八里區',\n",
       " '三芝區',\n",
       " '汐止區',\n",
       " '石碇區',\n",
       " '淡水區',\n",
       " '林口區',\n",
       " '板橋區',\n",
       " '金山區',\n",
       " '中和區',\n",
       " '石門區',\n",
       " '泰山區',\n",
       " '三重區',\n",
       " '坪林區',\n",
       " '瑞芳區',\n",
       " '五股區',\n",
       " '深坑區']"
      ]
     },
     "execution_count": 15,
     "metadata": {},
     "output_type": "execute_result"
    }
   ],
   "source": [
    "data:list[dict] = response.json()\n",
    "Sarea:set=set()\n",
    "for site in data:\n",
    "    Sarea.add(site['sarea'])\n",
    "list(Sarea)"
   ]
  }
 ],
 "metadata": {
  "kernelspec": {
   "display_name": "Python 3",
   "language": "python",
   "name": "python3"
  },
  "language_info": {
   "codemirror_mode": {
    "name": "ipython",
    "version": 3
   },
   "file_extension": ".py",
   "mimetype": "text/x-python",
   "name": "python",
   "nbconvert_exporter": "python",
   "pygments_lexer": "ipython3",
   "version": "3.11.9"
  }
 },
 "nbformat": 4,
 "nbformat_minor": 2
}
