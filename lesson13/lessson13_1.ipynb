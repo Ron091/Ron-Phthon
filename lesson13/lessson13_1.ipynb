{
 "cells": [
  {
   "cell_type": "code",
   "execution_count": 4,
   "metadata": {},
   "outputs": [],
   "source": [
    "import requests\n",
    "from pprint import pprint\n",
    "\n",
    "youbike_url = 'https://data.ntpc.gov.tw/api/datasets/010e5b15-3823-4b20-b401-b1cf000550c5/json?size=1000'\n",
    "response = requests.get(youbike_url)\n",
    "\n"
   ]
  },
  {
   "cell_type": "code",
   "execution_count": null,
   "metadata": {},
   "outputs": [],
   "source": [
    "data = response.json()\n",
    "    \n",
    "district = input(\"請輸入新北市行政區: \")\n",
    "district = district + \"區\"\n",
    "\n",
    "district_stations = []\n",
    "for station in data:\n",
    "    if station['sarea'] == district:\n",
    "        district_stations.append(station)\n",
    "\n",
    "\n",
    "if district_stations:\n",
    "    pprint(district_stations)\n",
    "else:\n",
    "    print(f\"沒有找到 {district} 行政區的站點資訊。請再輸入一次\")"
   ]
  }
 ],
 "metadata": {
  "kernelspec": {
   "display_name": "Python 3",
   "language": "python",
   "name": "python3"
  },
  "language_info": {
   "codemirror_mode": {
    "name": "ipython",
    "version": 3
   },
   "file_extension": ".py",
   "mimetype": "text/x-python",
   "name": "python",
   "nbconvert_exporter": "python",
   "pygments_lexer": "ipython3",
   "version": "3.11.9"
  }
 },
 "nbformat": 4,
 "nbformat_minor": 2
}
