{
 "cells": [
  {
   "cell_type": "code",
   "execution_count": 14,
   "metadata": {},
   "outputs": [],
   "source": [
    "import requests\n",
    "import csv\n",
    "import os\n",
    "\n",
    "\n",
    "def get_data(url):  \n",
    "    try:\n",
    "        response = requests.get(url)\n",
    "    except Exception  as error:\n",
    "        print(error)\n",
    "        return error\n",
    "    else:\n",
    "        return response\n",
    "def save_data(data,name):\n",
    "    file_path= os.path.abspath(__name__)\n",
    "    current_dir_name=os.path.dirname(file_path)\n",
    "    file_position=os.path.join(current_dir_name,'data',name)\n",
    "    with open(file_position,mode='w',newline='') as file:\n",
    "        writer = csv.DictWriter(file,data)\n",
    "        writer.writeheader()\n",
    "def main():\n",
    "    data = get_data(\"https://raw.githubusercontent.com/plotly/datasets/master/gapminderDataFiveYear.csv\") \n",
    "    if not isinstance(data,csv):\n",
    "        print(data)\n",
    "        return\n",
    "    name = '各國gdp指數.csv'\n",
    "    save_data(data,name)\n",
    "\n"
   ]
  }
 ],
 "metadata": {
  "kernelspec": {
   "display_name": "Python 3",
   "language": "python",
   "name": "python3"
  },
  "language_info": {
   "codemirror_mode": {
    "name": "ipython",
    "version": 3
   },
   "file_extension": ".py",
   "mimetype": "text/x-python",
   "name": "python",
   "nbconvert_exporter": "python",
   "pygments_lexer": "ipython3",
   "version": "3.12.3"
  }
 },
 "nbformat": 4,
 "nbformat_minor": 2
}
