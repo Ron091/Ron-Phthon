{
 "cells": [
  {
   "cell_type": "code",
   "execution_count": 4,
   "metadata": {},
   "outputs": [],
   "source": [
    "import numpy as np\n",
    "import pandas as pd\n",
    "import random\n",
    "with open('names.txt',encoding='utf-8') as file:\n",
    "    content = file.read()\n",
    "names =content.split()\n",
    "studentsName = random.choices(names,k=50)\n",
    "\n",
    "score = np.random.randint(50,101,(50,5))\n",
    "students_df = pd.DataFrame(score,\n",
    "             columns=['國文','英文','數學','社會','自然'],\n",
    "             index=studentsName)\n"
   ]
  },
  {
   "cell_type": "code",
   "execution_count": 11,
   "metadata": {},
   "outputs": [
    {
     "data": {
      "text/plain": [
       "昌嘉洋    75.2\n",
       "趙偉銘    81.8\n",
       "郭坤花    78.2\n",
       "李立偉    69.6\n",
       "陳建豪    89.6\n",
       "林佳慧    82.6\n",
       "楊少亮    80.6\n",
       "林世城    85.2\n",
       "張牧聿    78.8\n",
       "翁羽威    73.0\n",
       "溫重意    70.0\n",
       "王士銘    84.4\n",
       "溫重意    76.6\n",
       "馬彥文    73.2\n",
       "王筱婷    76.4\n",
       "聶心怡    81.8\n",
       "彭茹靖    88.2\n",
       "郭舜昇    80.2\n",
       "王展人    67.6\n",
       "黃佩玲    66.8\n",
       "王怡君    73.4\n",
       "傅佳琳    73.4\n",
       "陳嘉淑    71.6\n",
       "林玉佩    80.6\n",
       "張牧聿    72.0\n",
       "陳得映    84.4\n",
       "吳柏誠    57.8\n",
       "林群清    81.4\n",
       "鄧亭聿    75.8\n",
       "李湘婷    70.0\n",
       "林康亮    73.2\n",
       "游詩亞    69.0\n",
       "李政白    92.6\n",
       "鄭憲定    78.4\n",
       "黃志福    76.4\n",
       "陳淑萍    74.4\n",
       "張凱妮    73.8\n",
       "周怡啟    82.6\n",
       "彭茹靖    67.8\n",
       "林希啟    80.8\n",
       "劉林中    77.0\n",
       "尚偉倫    79.4\n",
       "馬彥文    76.4\n",
       "崔孝憲    85.8\n",
       "張慧君    77.0\n",
       "魏秋萍    59.6\n",
       "陳逸華    68.2\n",
       "趙家豪    81.6\n",
       "黃淑芬    86.4\n",
       "游淑惠    73.6\n",
       "dtype: float64"
      ]
     },
     "execution_count": 11,
     "metadata": {},
     "output_type": "execute_result"
    }
   ],
   "source": [
    "(students_df[\"國文\"]+\\\n",
    "students_df[\"英文\"]+\\\n",
    "students_df[\"數學\"]+\\\n",
    "students_df[\"社會\"]+\\\n",
    "students_df[\"自然\"])/5"
   ]
  }
 ],
 "metadata": {
  "kernelspec": {
   "display_name": "base",
   "language": "python",
   "name": "python3"
  },
  "language_info": {
   "codemirror_mode": {
    "name": "ipython",
    "version": 3
   },
   "file_extension": ".py",
   "mimetype": "text/x-python",
   "name": "python",
   "nbconvert_exporter": "python",
   "pygments_lexer": "ipython3",
   "version": "3.12.3"
  }
 },
 "nbformat": 4,
 "nbformat_minor": 2
}
