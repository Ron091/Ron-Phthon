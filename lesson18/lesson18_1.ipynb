{
 "cells": [
  {
   "cell_type": "code",
   "execution_count": 27,
   "metadata": {},
   "outputs": [],
   "source": [
    "import numpy as np\n",
    "import pandas as pd\n",
    "import random\n",
    "with open('names.txt',encoding='utf-8') as file:\n",
    "    content = file.read()\n",
    "names =content.split()\n",
    "studentsName = random.choices(names,k=50)\n",
    "\n",
    "score = np.random.randint(50,101,(50,5))\n",
    "students_df = pd.DataFrame(score,\n",
    "             columns=['國文','英文','數學','社會','自然'],\n",
    "             index=studentsName)\n"
   ]
  },
  {
   "cell_type": "code",
   "execution_count": null,
   "metadata": {},
   "outputs": [],
   "source": [
    "from pandas import DataFrame,Series\n",
    "\n",
    "def fun1(s:Series):\n",
    "    #傳出不及格的數量\n",
    "    return s[s < 60].count()\n",
    "\n",
    "students_df['不及格科目數'] = students_df.apply(fun1,axis=1)\n",
    "students_df"
   ]
  }
 ],
 "metadata": {
  "kernelspec": {
   "display_name": "base",
   "language": "python",
   "name": "python3"
  },
  "language_info": {
   "codemirror_mode": {
    "name": "ipython",
    "version": 3
   },
   "file_extension": ".py",
   "mimetype": "text/x-python",
   "name": "python",
   "nbconvert_exporter": "python",
   "pygments_lexer": "ipython3",
   "version": "3.12.3"
  }
 },
 "nbformat": 4,
 "nbformat_minor": 2
}
