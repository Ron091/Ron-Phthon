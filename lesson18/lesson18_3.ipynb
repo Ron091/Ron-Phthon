{
 "cells": [
  {
   "cell_type": "code",
   "execution_count": 5,
   "metadata": {},
   "outputs": [
    {
     "data": {
      "text/plain": [
       "['每日各站進出站人數\\\\每日各站進出站人數20190423-20191231.csv',\n",
       " '每日各站進出站人數\\\\每日各站進出站人數2020.csv',\n",
       " '每日各站進出站人數\\\\每日各站進出站人數2021.csv',\n",
       " '每日各站進出站人數\\\\每日各站進出站人數2022.csv',\n",
       " '每日各站進出站人數\\\\每日各站進出站人數2023.csv']"
      ]
     },
     "execution_count": 5,
     "metadata": {},
     "output_type": "execute_result"
    }
   ],
   "source": [
    "import os\n",
    "dirname = os.path.dirname(os.path.abspath(__name__))\n",
    "file_dirname = os.path.join('每日各站進出站人數')\n",
    "\n",
    "name_list = []\n",
    "for filename in (os.listdir(file_dirname)):\n",
    "    if '每日各站進出站人數' in filename:\n",
    "        name_list.append(os.path.join(file_dirname,filename))\n",
    "name_list"
   ]
  },
  {
   "cell_type": "code",
   "execution_count": 6,
   "metadata": {},
   "outputs": [],
   "source": [
    "import os\n",
    "import json\n",
    "import pandas as pd\n",
    "station_path = os.path.join(file_dirname,'車站基本資料集.json')\n",
    "with open (station_path,encoding='utf-8') as file:\n",
    "    content =  json.load(file)\n",
    "station_imformation = pd.DataFrame(content)\n",
    "station_imformation\n",
    " \n",
    "station_imformation[\"stationCode\"]= station_imformation['stationCode'].astype(int)"
   ]
  },
  {
   "cell_type": "code",
   "execution_count": 7,
   "metadata": {},
   "outputs": [],
   "source": [
    "name_list\n",
    "import pandas as pd\n",
    "inOut=pd.read_csv(name_list[1])"
   ]
  },
  {
   "cell_type": "code",
   "execution_count": 8,
   "metadata": {},
   "outputs": [],
   "source": [
    "\n",
    "df1 = pd.merge(inOut,station_imformation,left_on='staCode',right_on='stationCode')\n",
    "df2=df1.reindex(columns=['trnOpDate','stationName','gateInComingCnt','gateOutGoingCnt'])\n",
    "df3 =df2.rename(columns={'trnOpDate':'日期','stationName':'站名','gateInComingCnt':'入站','gateOutGoingCnt':'出站'})\n",
    "df3['日期'] = pd.to_datetime(df3['日期'].astype(str))"
   ]
  },
  {
   "cell_type": "code",
   "execution_count": 10,
   "metadata": {},
   "outputs": [
    {
     "name": "stdout",
     "output_type": "stream",
     "text": [
      "            日期   站名    入站    出站\n",
      "0   2020-01-01   基隆  7552  8154\n",
      "1   2020-01-01   三坑  1020  1135\n",
      "2   2020-01-01   八堵  1623  1972\n",
      "3   2020-01-01   七堵  4130  4813\n",
      "4   2020-01-01   百福  1818  2128\n",
      "..         ...  ...   ...   ...\n",
      "234 2020-01-01   瑞芳  5973  7075\n",
      "235 2020-01-01  海科館   229   228\n",
      "236 2020-01-01  八斗子   268   307\n",
      "237 2020-01-01  四腳亭   457   518\n",
      "238 2020-01-01   暖暖   231   263\n",
      "\n",
      "[239 rows x 4 columns]\n"
     ]
    },
    {
     "name": "stderr",
     "output_type": "stream",
     "text": [
      "C:\\Users\\Administrator\\AppData\\Local\\Temp\\ipykernel_2204\\3420757581.py:4: FutureWarning: The behavior of 'isin' with dtype=datetime64[ns] and castable values (e.g. strings) is deprecated. In a future version, these will not be considered matching by isin. Explicitly cast to the appropriate dtype before calling isin instead.\n",
      "  print(df3[df3['日期'].isin(day)])\n"
     ]
    }
   ],
   "source": [
    "\n",
    "df3['日期'] = pd.to_datetime(df3['日期'].astype(str))\n",
    "day = ['2020-01-01']\n",
    "\n",
    "print(df3[df3['日期'].isin(day)])"
   ]
  }
 ],
 "metadata": {
  "kernelspec": {
   "display_name": "base",
   "language": "python",
   "name": "python3"
  },
  "language_info": {
   "codemirror_mode": {
    "name": "ipython",
    "version": 3
   },
   "file_extension": ".py",
   "mimetype": "text/x-python",
   "name": "python",
   "nbconvert_exporter": "python",
   "pygments_lexer": "ipython3",
   "version": "3.12.3"
  }
 },
 "nbformat": 4,
 "nbformat_minor": 2
}
