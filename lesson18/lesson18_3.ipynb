{
 "cells": [
  {
   "cell_type": "code",
   "execution_count": 16,
   "metadata": {},
   "outputs": [
    {
     "data": {
      "text/plain": [
       "['每日各站進出站人數\\\\每日各站進出站人數20190423-20191231.csv',\n",
       " '每日各站進出站人數\\\\每日各站進出站人數2020.csv',\n",
       " '每日各站進出站人數\\\\每日各站進出站人數2021.csv',\n",
       " '每日各站進出站人數\\\\每日各站進出站人數2022.csv',\n",
       " '每日各站進出站人數\\\\每日各站進出站人數2023.csv']"
      ]
     },
     "execution_count": 16,
     "metadata": {},
     "output_type": "execute_result"
    }
   ],
   "source": [
    "import os\n",
    "dirname = os.path.dirname(os.path.abspath(__name__))\n",
    "file_dirname = os.path.join('每日各站進出站人數')\n",
    "\n",
    "name_list = []\n",
    "for filename in (os.listdir(file_dirname)):\n",
    "    if '每日各站進出站人數' in filename:\n",
    "        name_list.append(os.path.join(file_dirname,filename))\n",
    "name_list"
   ]
  },
  {
   "cell_type": "code",
   "execution_count": 17,
   "metadata": {},
   "outputs": [],
   "source": [
    "import os\n",
    "import json\n",
    "import pandas as pd\n",
    "station_path = os.path.join(file_dirname,'車站基本資料集.json')\n",
    "with open (station_path,encoding='utf-8') as file:\n",
    "    content =  json.load(file)\n",
    "station_imformation = pd.DataFrame(content)\n",
    "station_imformation\n",
    " \n",
    "station_imformation[\"stationCode\"]= station_imformation['stationCode'].astype(int)"
   ]
  },
  {
   "cell_type": "code",
   "execution_count": 18,
   "metadata": {},
   "outputs": [],
   "source": [
    "name_list\n",
    "import pandas as pd\n",
    "inOut=pd.read_csv(name_list[1])"
   ]
  },
  {
   "cell_type": "code",
   "execution_count": 29,
   "metadata": {},
   "outputs": [
    {
     "data": {
      "text/html": [
       "<div>\n",
       "<style scoped>\n",
       "    .dataframe tbody tr th:only-of-type {\n",
       "        vertical-align: middle;\n",
       "    }\n",
       "\n",
       "    .dataframe tbody tr th {\n",
       "        vertical-align: top;\n",
       "    }\n",
       "\n",
       "    .dataframe thead th {\n",
       "        text-align: right;\n",
       "    }\n",
       "</style>\n",
       "<table border=\"1\" class=\"dataframe\">\n",
       "  <thead>\n",
       "    <tr style=\"text-align: right;\">\n",
       "      <th></th>\n",
       "      <th>trnOpDate</th>\n",
       "      <th>stationName</th>\n",
       "      <th>gateInComingCnt</th>\n",
       "      <th>gateOutGoingCnt</th>\n",
       "    </tr>\n",
       "  </thead>\n",
       "  <tbody>\n",
       "    <tr>\n",
       "      <th>0</th>\n",
       "      <td>20200101</td>\n",
       "      <td>基隆</td>\n",
       "      <td>7552</td>\n",
       "      <td>8154</td>\n",
       "    </tr>\n",
       "    <tr>\n",
       "      <th>1</th>\n",
       "      <td>20200101</td>\n",
       "      <td>三坑</td>\n",
       "      <td>1020</td>\n",
       "      <td>1135</td>\n",
       "    </tr>\n",
       "    <tr>\n",
       "      <th>2</th>\n",
       "      <td>20200101</td>\n",
       "      <td>八堵</td>\n",
       "      <td>1623</td>\n",
       "      <td>1972</td>\n",
       "    </tr>\n",
       "    <tr>\n",
       "      <th>3</th>\n",
       "      <td>20200101</td>\n",
       "      <td>七堵</td>\n",
       "      <td>4130</td>\n",
       "      <td>4813</td>\n",
       "    </tr>\n",
       "    <tr>\n",
       "      <th>4</th>\n",
       "      <td>20200101</td>\n",
       "      <td>百福</td>\n",
       "      <td>1818</td>\n",
       "      <td>2128</td>\n",
       "    </tr>\n",
       "    <tr>\n",
       "      <th>...</th>\n",
       "      <td>...</td>\n",
       "      <td>...</td>\n",
       "      <td>...</td>\n",
       "      <td>...</td>\n",
       "    </tr>\n",
       "    <tr>\n",
       "      <th>86927</th>\n",
       "      <td>20201231</td>\n",
       "      <td>瑞芳</td>\n",
       "      <td>3523</td>\n",
       "      <td>3602</td>\n",
       "    </tr>\n",
       "    <tr>\n",
       "      <th>86928</th>\n",
       "      <td>20201231</td>\n",
       "      <td>海科館</td>\n",
       "      <td>3</td>\n",
       "      <td>18</td>\n",
       "    </tr>\n",
       "    <tr>\n",
       "      <th>86929</th>\n",
       "      <td>20201231</td>\n",
       "      <td>八斗子</td>\n",
       "      <td>28</td>\n",
       "      <td>34</td>\n",
       "    </tr>\n",
       "    <tr>\n",
       "      <th>86930</th>\n",
       "      <td>20201231</td>\n",
       "      <td>四腳亭</td>\n",
       "      <td>609</td>\n",
       "      <td>604</td>\n",
       "    </tr>\n",
       "    <tr>\n",
       "      <th>86931</th>\n",
       "      <td>20201231</td>\n",
       "      <td>暖暖</td>\n",
       "      <td>377</td>\n",
       "      <td>444</td>\n",
       "    </tr>\n",
       "  </tbody>\n",
       "</table>\n",
       "<p>86932 rows × 4 columns</p>\n",
       "</div>"
      ],
      "text/plain": [
       "       trnOpDate stationName  gateInComingCnt  gateOutGoingCnt\n",
       "0       20200101          基隆             7552             8154\n",
       "1       20200101          三坑             1020             1135\n",
       "2       20200101          八堵             1623             1972\n",
       "3       20200101          七堵             4130             4813\n",
       "4       20200101          百福             1818             2128\n",
       "...          ...         ...              ...              ...\n",
       "86927   20201231          瑞芳             3523             3602\n",
       "86928   20201231         海科館                3               18\n",
       "86929   20201231         八斗子               28               34\n",
       "86930   20201231         四腳亭              609              604\n",
       "86931   20201231          暖暖              377              444\n",
       "\n",
       "[86932 rows x 4 columns]"
      ]
     },
     "execution_count": 29,
     "metadata": {},
     "output_type": "execute_result"
    }
   ],
   "source": [
    "\n",
    "df1 = pd.merge(inOut,station_imformation,left_on='staCode',right_on='stationCode')\n",
    "df2=df1.reindex(columns=['trnOpDate','stationName','gateInComingCnt','gateOutGoingCnt'])"
   ]
  },
  {
   "cell_type": "code",
   "execution_count": null,
   "metadata": {},
   "outputs": [],
   "source": [
    "df2.rename({'trnOpDate':'日期'})"
   ]
  }
 ],
 "metadata": {
  "kernelspec": {
   "display_name": "base",
   "language": "python",
   "name": "python3"
  },
  "language_info": {
   "codemirror_mode": {
    "name": "ipython",
    "version": 3
   },
   "file_extension": ".py",
   "mimetype": "text/x-python",
   "name": "python",
   "nbconvert_exporter": "python",
   "pygments_lexer": "ipython3",
   "version": "3.12.3"
  }
 },
 "nbformat": 4,
 "nbformat_minor": 2
}
