{
 "cells": [
  {
   "cell_type": "code",
   "execution_count": 16,
   "metadata": {},
   "outputs": [],
   "source": [
    "from tools import get_path,in_out_imformation,get_station_imfo\n",
    "import pandas as pd\n",
    "if __name__ == \"__main__\":\n",
    "    name_list = get_path()\n",
    "    stations_imfo = get_station_imfo()\n",
    "    all_in_out = in_out_imformation(name_list,stations_imfo)\n",
    "    station_in_out = pd.concat(all_in_out)\n",
    "    station_in_out"
   ]
  },
  {
   "cell_type": "code",
   "execution_count": 18,
   "metadata": {},
   "outputs": [
    {
     "data": {
      "text/plain": [
       "<bound method GroupBy.max of <pandas.core.groupby.generic.DataFrameGroupBy object at 0x0000020EEDEBFD10>>"
      ]
     },
     "execution_count": 18,
     "metadata": {},
     "output_type": "execute_result"
    }
   ],
   "source": [
    "station_in_out.groupby(by=\"站名\").max\n"
   ]
  }
 ],
 "metadata": {
  "kernelspec": {
   "display_name": "base",
   "language": "python",
   "name": "python3"
  },
  "language_info": {
   "codemirror_mode": {
    "name": "ipython",
    "version": 3
   },
   "file_extension": ".py",
   "mimetype": "text/x-python",
   "name": "python",
   "nbconvert_exporter": "python",
   "pygments_lexer": "ipython3",
   "version": "3.12.3"
  }
 },
 "nbformat": 4,
 "nbformat_minor": 2
}
