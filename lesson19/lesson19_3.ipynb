{
 "cells": [
  {
   "cell_type": "code",
   "execution_count": 4,
   "metadata": {},
   "outputs": [
    {
     "name": "stdout",
     "output_type": "stream",
     "text": [
      "<class 'pandas.core.frame.DataFrame'>\n",
      "Index: 239 entries, 0 to 238\n",
      "Data columns (total 4 columns):\n",
      " #   Column  Non-Null Count  Dtype         \n",
      "---  ------  --------------  -----         \n",
      " 0   日期      239 non-null    datetime64[ns]\n",
      " 1   站名      239 non-null    object        \n",
      " 2   入站      239 non-null    int64         \n",
      " 3   出站      239 non-null    int64         \n",
      "dtypes: datetime64[ns](1), int64(2), object(1)\n",
      "memory usage: 9.3+ KB\n"
     ]
    },
    {
     "name": "stderr",
     "output_type": "stream",
     "text": [
      "C:\\Users\\Administrator\\AppData\\Local\\Temp\\ipykernel_6408\\1454571940.py:8: FutureWarning: The behavior of 'isin' with dtype=datetime64[ns] and castable values (e.g. strings) is deprecated. In a future version, these will not be considered matching by isin. Explicitly cast to the appropriate dtype before calling isin instead.\n",
      "  station_in_out[station_in_out['日期'].isin(['2020-01-01'])].info()\n"
     ]
    }
   ],
   "source": [
    "from tools import get_path,in_out_imformation,get_station_imfo\n",
    "import pandas as pd\n",
    "if __name__ == \"__main__\":\n",
    "    name_list = get_path()\n",
    "    stations_imfo = get_station_imfo()\n",
    "    all_in_out = in_out_imformation(name_list,stations_imfo)\n",
    "    station_in_out = pd.concat(all_in_out)\n",
    "    station_in_out[station_in_out['日期'].isin(['2020-01-01'])].info()\n"
   ]
  },
  {
   "cell_type": "code",
   "execution_count": 6,
   "metadata": {},
   "outputs": [
    {
     "data": {
      "text/plain": [
       "日期    2023-12-31 00:00:00\n",
       "站名                     基隆\n",
       "入站                  15010\n",
       "出站                  12986\n",
       "dtype: object"
      ]
     },
     "execution_count": 6,
     "metadata": {},
     "output_type": "execute_result"
    }
   ],
   "source": [
    "station_in_out[station_in_out['站名'].isin(['基隆'])].max()"
   ]
  }
 ],
 "metadata": {
  "kernelspec": {
   "display_name": "base",
   "language": "python",
   "name": "python3"
  },
  "language_info": {
   "codemirror_mode": {
    "name": "ipython",
    "version": 3
   },
   "file_extension": ".py",
   "mimetype": "text/x-python",
   "name": "python",
   "nbconvert_exporter": "python",
   "pygments_lexer": "ipython3",
   "version": "3.12.3"
  }
 },
 "nbformat": 4,
 "nbformat_minor": 2
}
