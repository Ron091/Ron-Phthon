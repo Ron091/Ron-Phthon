{
 "cells": [
  {
   "cell_type": "code",
   "execution_count": 4,
   "metadata": {},
   "outputs": [
    {
     "name": "stdout",
     "output_type": "stream",
     "text": [
      "15\n"
     ]
    }
   ],
   "source": [
    "total = 0\n",
    "num1 = eval(input(\"請輸入第一個數\"))\n",
    "total += num1\n",
    "num1 = eval(input(\"請輸入第二個數\"))\n",
    "total += num1\n",
    "num1 = eval(input(\"請輸入第三個數\"))\n",
    "total += num1\n",
    "print(total)"
   ]
  },
  {
   "cell_type": "code",
   "execution_count": 5,
   "metadata": {},
   "outputs": [
    {
     "name": "stdout",
     "output_type": "stream",
     "text": [
      "請以(複合指定運算子)設計程式\n",
      "\t讓用者輸入三個任意數\n",
      "\t程式會顯示3數相加的總和\n"
     ]
    }
   ],
   "source": [
    "print('請以(複合指定運算子)設計程式\\n\\t讓用者輸入三個任意數\\n\\t程式會顯示3數相加的總和')"
   ]
  },
  {
   "cell_type": "code",
   "execution_count": 8,
   "metadata": {},
   "outputs": [
    {
     "name": "stdout",
     "output_type": "stream",
     "text": [
      "請以(複合指定運算子)設計程式\n",
      "讓用者輸入三個任意數\n",
      "程式會顯示3數相加的總和\n"
     ]
    }
   ],
   "source": [
    "print(\"\"\"請以(複合指定運算子)設計程式\n",
    "讓用者輸入三個任意數\n",
    "程式會顯示3數相加的總和\"\"\")"
   ]
  },
  {
   "cell_type": "code",
   "execution_count": 9,
   "metadata": {},
   "outputs": [
    {
     "name": "stdout",
     "output_type": "stream",
     "text": [
      "1 2 3 a b c\n"
     ]
    }
   ],
   "source": [
    "print(1,2,3,'a','b','c')"
   ]
  },
  {
   "cell_type": "code",
   "execution_count": 20,
   "metadata": {},
   "outputs": [
    {
     "name": "stdout",
     "output_type": "stream",
     "text": [
      "1-2-3-a-b-c.\n"
     ]
    }
   ],
   "source": [
    "print(1,2,3,'a','b','c',sep='-',end='.\\n')"
   ]
  },
  {
   "cell_type": "code",
   "execution_count": 22,
   "metadata": {},
   "outputs": [
    {
     "name": "stdout",
     "output_type": "stream",
     "text": [
      "我有3水果\n",
      "我有4隻動物\n",
      "我有5台車\n",
      "\n"
     ]
    }
   ],
   "source": [
    "fruits = 3\n",
    "animals = 4\n",
    "cars = 5\n",
    "\n",
    "\n",
    "print(\"我有\" + str(fruits) + \"水果\\n我有\" + str(animals) + \"隻動物\\n我有\" + str(cars) + \"台車\\n\")"
   ]
  },
  {
   "cell_type": "code",
   "execution_count": 23,
   "metadata": {},
   "outputs": [
    {
     "name": "stdout",
     "output_type": "stream",
     "text": [
      "我有3水果\n",
      "我有4隻動物\n",
      "我有5台車\n",
      "\n"
     ]
    }
   ],
   "source": [
    "fruits = 3\n",
    "animals = 4\n",
    "cars = 5\n",
    "\n",
    "\n",
    "print(f\"我有{fruits}水果\\n我有{animals}隻動物\\n我有{cars}台車\\n\")"
   ]
  },
  {
   "cell_type": "code",
   "execution_count": 24,
   "metadata": {},
   "outputs": [
    {
     "name": "stdout",
     "output_type": "stream",
     "text": [
      "我有3水果\n",
      "我有4隻動物\n",
      "我有5台車\n"
     ]
    }
   ],
   "source": [
    "fruits = 3\n",
    "animals = 4\n",
    "cars = 5\n",
    "\n",
    "\n",
    "print(f\"\"\"我有{fruits}水果\n",
    "我有{animals}隻動物\n",
    "我有{cars}台車\"\"\")"
   ]
  },
  {
   "cell_type": "code",
   "execution_count": 27,
   "metadata": {},
   "outputs": [
    {
     "name": "stdout",
     "output_type": "stream",
     "text": [
      "我有3水果\n",
      "我有4隻動物\n",
      "我有5台車\n",
      "\n"
     ]
    }
   ],
   "source": [
    "message = \"\"\n",
    "message += f\"我有{fruits}水果\\n\"\n",
    "message += f\"我有{animals}隻動物\\n\"\n",
    "message += f\"我有{cars}台車\\n\"\n",
    "print(message)"
   ]
  },
  {
   "cell_type": "code",
   "execution_count": null,
   "metadata": {},
   "outputs": [],
   "source": []
  }
 ],
 "metadata": {
  "kernelspec": {
   "display_name": "Python 3",
   "language": "python",
   "name": "python3"
  },
  "language_info": {
   "codemirror_mode": {
    "name": "ipython",
    "version": 3
   },
   "file_extension": ".py",
   "mimetype": "text/x-python",
   "name": "python",
   "nbconvert_exporter": "python",
   "pygments_lexer": "ipython3",
   "version": "3.11.9"
  }
 },
 "nbformat": 4,
 "nbformat_minor": 2
}
