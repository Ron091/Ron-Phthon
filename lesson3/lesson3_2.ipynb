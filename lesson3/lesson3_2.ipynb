{
 "cells": [
  {
   "cell_type": "code",
   "execution_count": 4,
   "metadata": {},
   "outputs": [
    {
     "name": "stdout",
     "output_type": "stream",
     "text": [
      "15\n"
     ]
    }
   ],
   "source": [
    "total = 0\n",
    "num1 = eval(input(\"請輸入第一個數\"))\n",
    "total += num1\n",
    "num1 = eval(input(\"請輸入第二個數\"))\n",
    "total += num1\n",
    "num1 = eval(input(\"請輸入第三個數\"))\n",
    "total += num1\n",
    "print(total)"
   ]
  },
  {
   "cell_type": "code",
   "execution_count": 5,
   "metadata": {},
   "outputs": [
    {
     "name": "stdout",
     "output_type": "stream",
     "text": [
      "請以(複合指定運算子)設計程式\n",
      "\t讓用者輸入三個任意數\n",
      "\t程式會顯示3數相加的總和\n"
     ]
    }
   ],
   "source": [
    "print('請以(複合指定運算子)設計程式\\n\\t讓用者輸入三個任意數\\n\\t程式會顯示3數相加的總和')"
   ]
  },
  {
   "cell_type": "code",
   "execution_count": 8,
   "metadata": {},
   "outputs": [
    {
     "name": "stdout",
     "output_type": "stream",
     "text": [
      "請以(複合指定運算子)設計程式\n",
      "讓用者輸入三個任意數\n",
      "程式會顯示3數相加的總和\n"
     ]
    }
   ],
   "source": [
    "print(\"\"\"請以(複合指定運算子)設計程式\n",
    "讓用者輸入三個任意數\n",
    "程式會顯示3數相加的總和\"\"\")"
   ]
  }
 ],
 "metadata": {
  "kernelspec": {
   "display_name": "Python 3",
   "language": "python",
   "name": "python3"
  },
  "language_info": {
   "codemirror_mode": {
    "name": "ipython",
    "version": 3
   },
   "file_extension": ".py",
   "mimetype": "text/x-python",
   "name": "python",
   "nbconvert_exporter": "python",
   "pygments_lexer": "ipython3",
   "version": "3.11.9"
  }
 },
 "nbformat": 4,
 "nbformat_minor": 2
}
