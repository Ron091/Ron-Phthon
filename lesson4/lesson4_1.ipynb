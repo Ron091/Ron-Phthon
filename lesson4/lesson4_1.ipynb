{
 "cells": [
  {
   "cell_type": "code",
   "execution_count": 1,
   "metadata": {},
   "outputs": [
    {
     "name": "stdout",
     "output_type": "stream",
     "text": [
      "對邊長為2\n",
      "斜邊長為1\n",
      "角度為30.0\n"
     ]
    }
   ],
   "source": [
    "import math\n",
    "對邊 = eval(input(\"請輸入對邊:\"))\n",
    "斜邊 = eval(input(\"請輸入斜邊:\"))\n",
    "弧度 = math.asin(斜邊 / 對邊)\n",
    "角度 = math.degrees(弧度)\n",
    "print(f\"\"\"對邊長為{對邊}\n",
    "斜邊長為{斜邊}\n",
    "角度為{round(角度,ndigits=2)}\"\"\")"
   ]
  },
  {
   "cell_type": "code",
   "execution_count": 6,
   "metadata": {},
   "outputs": [
    {
     "name": "stdout",
     "output_type": "stream",
     "text": [
      "[0 ,5 ,9 ,14]加總為28標準差為5.94\n",
      "[5 ,6 ,8 ,9]加總為28標準差為1.83\n"
     ]
    }
   ],
   "source": [
    "import statistics\n",
    "sum1 = sum([0 ,5 ,9 ,14])\n",
    "sum2 = sum([5 ,6 ,8 ,9])\n",
    "標準差1 = statistics.stdev([0 ,5 ,9 ,14])\n",
    "標準差2 = statistics.stdev([5 ,6 ,8 ,9])\n",
    "print(f\"[0 ,5 ,9 ,14]加總為{sum1}標準差為{round(標準差1,ndigits=2)}\\n[5 ,6 ,8 ,9]加總為{sum2}標準差為{round(標準差2,ndigits=2)}\")"
   ]
  }
 ],
 "metadata": {
  "kernelspec": {
   "display_name": "Python 3",
   "language": "python",
   "name": "python3"
  },
  "language_info": {
   "codemirror_mode": {
    "name": "ipython",
    "version": 3
   },
   "file_extension": ".py",
   "mimetype": "text/x-python",
   "name": "python",
   "nbconvert_exporter": "python",
   "pygments_lexer": "ipython3",
   "version": "3.11.9"
  }
 },
 "nbformat": 4,
 "nbformat_minor": 2
}
