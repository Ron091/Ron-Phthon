{
 "cells": [
  {
   "cell_type": "code",
   "execution_count": 1,
   "metadata": {},
   "outputs": [
    {
     "name": "stdout",
     "output_type": "stream",
     "text": [
      "False\n",
      "True\n",
      "True\n",
      "False\n"
     ]
    }
   ],
   "source": [
    "print(3 > 5)\n",
    "print(5 > 3)\n",
    "print(5 == 5)\n",
    "print(5 != 5)\n"
   ]
  },
  {
   "cell_type": "code",
   "execution_count": 5,
   "metadata": {},
   "outputs": [
    {
     "name": "stdout",
     "output_type": "stream",
     "text": [
      "成年\n",
      "應用程式結束\n"
     ]
    }
   ],
   "source": [
    "age = eval(input(\"請輸入年齡\"))\n",
    "\n",
    "if age >= 18:\n",
    "    print(\"成年\")\n",
    "else:\n",
    "    print(\"未成年\")\n",
    "print(\"應用程式結束\")   "
   ]
  },
  {
   "cell_type": "code",
   "execution_count": 23,
   "metadata": {},
   "outputs": [
    {
     "name": "stdout",
     "output_type": "stream",
     "text": [
      "數值輸入錯誤\n"
     ]
    }
   ],
   "source": [
    "score = input(\"請輸入學生分數(最高300分)\")\n",
    "\n",
    "is_add =input(\"學生是否能符合加分條件?(y/n)\")\n",
    "\n",
    "score = eval(score)\n",
    "if is_add == 'y':\n",
    "    score *= 1.05\n",
    "    if score > 300:\n",
    "        score = 300\n",
    "print(f\"學生分數為:{round(score)}分\")\n",
    "\n"
   ]
  },
  {
   "cell_type": "code",
   "execution_count": 30,
   "metadata": {},
   "outputs": [
    {
     "name": "stdout",
     "output_type": "stream",
     "text": [
      "學生分數為:300分\n",
      "應用程式結束\n"
     ]
    }
   ],
   "source": [
    "try:\n",
    "    score = eval(input(\"請輸入學生分數(最高300分)\"))\n",
    "except:\n",
    "    print(\"輸入格式有誤\")\n",
    "else:\n",
    "    is_add =input(\"學生是否能符合加分條件?(y/n)\")\n",
    "\n",
    "    if is_add == 'y':\n",
    "        score *= 1.05\n",
    "        if score > 300:\n",
    "            score = 300\n",
    "    print(f\"學生分數為:{round(score)}分\")\n",
    "print(\"應用程式結束\")"
   ]
  },
  {
   "cell_type": "code",
   "execution_count": 39,
   "metadata": {},
   "outputs": [
    {
     "name": "stdout",
     "output_type": "stream",
     "text": [
      "invalid literal for int() with base 10: '256a'\n",
      "應用程式結束\n"
     ]
    }
   ],
   "source": [
    "try:\n",
    "    score = int(input(\"請輸入學生分數(最高300分)\"))\n",
    "    if score < 0:\n",
    "        raise ValueError(\"輸入數值要大於等於零\")\n",
    "    \n",
    "    if score > 300:\n",
    "        raise ValueError(\"輸入數值小於等於三百\")\n",
    "\n",
    "    is_add =input(\"學生是否能符合加分條件?(y/n)\")\n",
    "\n",
    "    if is_add == 'y':\n",
    "        score *= 1.05\n",
    "        if score > 300:\n",
    "            score = 300\n",
    "\n",
    "    print(f\"學生分數為:{round(score)}分\")\n",
    "    \n",
    "except Exception as error:\n",
    "    print(error)    \n",
    "\n",
    "print(\"應用程式結束\")"
   ]
  },
  {
   "cell_type": "code",
   "execution_count": null,
   "metadata": {},
   "outputs": [],
   "source": []
  }
 ],
 "metadata": {
  "kernelspec": {
   "display_name": "Python 3",
   "language": "python",
   "name": "python3"
  },
  "language_info": {
   "codemirror_mode": {
    "name": "ipython",
    "version": 3
   },
   "file_extension": ".py",
   "mimetype": "text/x-python",
   "name": "python",
   "nbconvert_exporter": "python",
   "pygments_lexer": "ipython3",
   "version": "3.11.9"
  }
 },
 "nbformat": 4,
 "nbformat_minor": 2
}
