{
 "cells": [
  {
   "cell_type": "code",
   "execution_count": 2,
   "metadata": {},
   "outputs": [
    {
     "name": "stdout",
     "output_type": "stream",
     "text": [
      "在0~300內\n"
     ]
    }
   ],
   "source": [
    "score = int(input('請輸入學生分數(最高300分):'))\n",
    "if score < 0:        \n",
    "    print(\"輸入數值要大於等於0\")\n",
    "\n",
    "if score > 300:\n",
    "    print(\"輸入數值要小於等於300\")\n",
    "\n",
    "if score >= 0 and score <= 300:\n",
    "    print(\"在0~300內\")"
   ]
  }
 ],
 "metadata": {
  "kernelspec": {
   "display_name": "Python 3",
   "language": "python",
   "name": "python3"
  },
  "language_info": {
   "codemirror_mode": {
    "name": "ipython",
    "version": 3
   },
   "file_extension": ".py",
   "mimetype": "text/x-python",
   "name": "python",
   "nbconvert_exporter": "python",
   "pygments_lexer": "ipython3",
   "version": "3.11.9"
  }
 },
 "nbformat": 4,
 "nbformat_minor": 2
}
