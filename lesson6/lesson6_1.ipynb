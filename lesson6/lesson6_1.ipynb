{
 "cells": [
  {
   "cell_type": "code",
   "execution_count": null,
   "metadata": {},
   "outputs": [],
   "source": [
    "try:\n",
    "    chinese = int(input(\"請輸入國文成績\"))\n",
    "    if chinese > 100 or chinese < 0:\n",
    "        print(\"國文成績輸入錯誤\")\n",
    "    math = int(input(\"請輸入數學成績\"))\n",
    "    if math > 100 or math < 0:\n",
    "        print(\"數學成績輸入錯誤\")\n",
    "    if chinese == 100 and math == 100:\n",
    "        bonus = 1000\n",
    "    elif chinese == 100 or math == 100:\n",
    "        bonus = 500\n",
    "    else:\n",
    "        bonus = 0\n",
    "    print(f\"獎金{bonus}\")\n",
    "except Exception as error:\n",
    "    print(error)\n",
    "\n",
    "\n"
   ]
  },
  {
   "cell_type": "code",
   "execution_count": null,
   "metadata": {},
   "outputs": [],
   "source": []
  }
 ],
 "metadata": {
  "language_info": {
   "name": "python"
  }
 },
 "nbformat": 4,
 "nbformat_minor": 2
}
