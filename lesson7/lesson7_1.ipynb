{
 "cells": [
  {
   "cell_type": "code",
   "execution_count": 12,
   "metadata": {},
   "outputs": [
    {
     "name": "stdout",
     "output_type": "stream",
     "text": [
      "RIN\n",
      "AK\n",
      "OOOO\n",
      "AFKH\n",
      "A\n",
      "AAAAAAAA\n",
      "AAAAAAAAAAAAAAAAA\n",
      "AAAAAAAAAAAAAAAAAAAAAAAAAAAAAA\n",
      "應用程式結束\n"
     ]
    }
   ],
   "source": [
    "en = input(\"輸入英文字母(按q會離開)\")\n",
    "while en!='q':\n",
    "    print(en.upper())\n",
    "    en = input(\"輸入英文字母(按q會離開)\")\n",
    "print(\"應用程式結束\")"
   ]
  },
  {
   "cell_type": "code",
   "execution_count": 16,
   "metadata": {},
   "outputs": [
    {
     "name": "stdout",
     "output_type": "stream",
     "text": [
      "RONM\n",
      "A\n",
      "應用程式結束\n"
     ]
    }
   ],
   "source": [
    "while True:\n",
    "    en = input(\"輸入英文字母(按q會離開)\")\n",
    "    if en == \"q\":\n",
    "        break\n",
    "    print(en.upper())\n",
    "print(\"應用程式結束\")"
   ]
  },
  {
   "cell_type": "code",
   "execution_count": 18,
   "metadata": {},
   "outputs": [
    {
     "name": "stdout",
     "output_type": "stream",
     "text": [
      "輸入格式錯誤請重新輸入\n",
      "503778025\n",
      "45369\n",
      "輸入格式錯誤請重新輸入\n",
      "應用程式結束\n"
     ]
    }
   ],
   "source": [
    "while True:\n",
    "    verb = input(\"輸入數字(按q會離開)\")\n",
    "    if verb == \"q\":\n",
    "        break\n",
    "    try:\n",
    "        number = int(verb)\n",
    "    except:\n",
    "        print(\"輸入格式錯誤請重新輸入\")\n",
    "        continue\n",
    "    else:\n",
    "        if number % 2 == 1:\n",
    "            print(number ** 2)\n",
    "print(\"應用程式結束\")"
   ]
  },
  {
   "cell_type": "code",
   "execution_count": 32,
   "metadata": {},
   "outputs": [
    {
     "data": {
      "text/plain": [
       "8.091368984956517"
      ]
     },
     "execution_count": 32,
     "metadata": {},
     "output_type": "execute_result"
    }
   ],
   "source": [
    "import random\n",
    "\n",
    "random.uniform(1,10)"
   ]
  },
  {
   "cell_type": "code",
   "execution_count": null,
   "metadata": {},
   "outputs": [],
   "source": []
  }
 ],
 "metadata": {
  "kernelspec": {
   "display_name": "Python 3",
   "language": "python",
   "name": "python3"
  },
  "language_info": {
   "codemirror_mode": {
    "name": "ipython",
    "version": 3
   },
   "file_extension": ".py",
   "mimetype": "text/x-python",
   "name": "python",
   "nbconvert_exporter": "python",
   "pygments_lexer": "ipython3",
   "version": "3.11.9"
  }
 },
 "nbformat": 4,
 "nbformat_minor": 2
}
