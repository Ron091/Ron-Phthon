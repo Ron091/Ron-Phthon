{
 "cells": [
  {
   "cell_type": "code",
   "execution_count": 1,
   "metadata": {},
   "outputs": [
    {
     "name": "stdout",
     "output_type": "stream",
     "text": [
      "==========猜數字遊戲==========\n",
      "\n",
      "數字大於50\n",
      "你以猜了1次\n",
      "數字大於75\n",
      "你以猜了2次\n",
      "數字小於86\n",
      "你以猜了3次\n",
      "輸入超出範圍\n",
      "數字大於80\n",
      "你以猜了5次\n",
      "數字小於83\n",
      "你以猜了6次\n",
      "數字大於81\n",
      "你以猜了7次\n",
      "恭喜你!猜對了答案是:82\n",
      "你猜了8次\n",
      "應用程式結束\n"
     ]
    }
   ],
   "source": [
    "import random\n",
    "\n",
    "min = 1\n",
    "max = 100\n",
    "\n",
    "target = random.randint(min,max)\n",
    "print(\"==========猜數字遊戲==========\\n\")\n",
    "count = 0\n",
    "while True:\n",
    "    count += 1\n",
    "    try:\n",
    "        guest = int(input(f\"猜數字範圍{min}~{max}\"))\n",
    "    except:\n",
    "        print(\"輸入格式錯誤\")\n",
    "        continue\n",
    "    if guest > max or target < min:\n",
    "        print(\"輸入超出範圍\")\n",
    "        continue\n",
    "    \n",
    "    if target == guest:\n",
    "        print(f\"恭喜你!猜對了答案是:{guest}\")\n",
    "        print(f\"你猜了{count}次\")\n",
    "        break\n",
    "    elif guest > target:\n",
    "        print(f\"數字小於{guest}\")\n",
    "        max = guest -1\n",
    "    else:\n",
    "        print(f\"數字大於{guest}\")\n",
    "        min = guest +1\n",
    "    print(f\"你以猜了{count}次\")\n",
    "\n",
    "\n",
    "print(\"應用程式結束\")"
   ]
  }
 ],
 "metadata": {
  "kernelspec": {
   "display_name": "Python 3",
   "language": "python",
   "name": "python3"
  },
  "language_info": {
   "codemirror_mode": {
    "name": "ipython",
    "version": 3
   },
   "file_extension": ".py",
   "mimetype": "text/x-python",
   "name": "python",
   "nbconvert_exporter": "python",
   "pygments_lexer": "ipython3",
   "version": "3.11.9"
  }
 },
 "nbformat": 4,
 "nbformat_minor": 2
}
