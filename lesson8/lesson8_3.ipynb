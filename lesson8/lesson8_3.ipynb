{
 "cells": [
  {
   "cell_type": "code",
   "execution_count": 4,
   "metadata": {},
   "outputs": [
    {
     "ename": "AttributeError",
     "evalue": "module 'pyinputplus' has no attribute 'inputstr'",
     "output_type": "error",
     "traceback": [
      "\u001b[0;31m---------------------------------------------------------------------------\u001b[0m",
      "\u001b[0;31mAttributeError\u001b[0m                            Traceback (most recent call last)",
      "Cell \u001b[0;32mIn[4], line 3\u001b[0m\n\u001b[1;32m      1\u001b[0m \u001b[38;5;28;01mimport\u001b[39;00m \u001b[38;5;21;01mpyinputplus\u001b[39;00m \u001b[38;5;28;01mas\u001b[39;00m \u001b[38;5;21;01mpyip\u001b[39;00m\n\u001b[1;32m      2\u001b[0m \u001b[38;5;28;01mwhile\u001b[39;00m \u001b[38;5;28;01mTrue\u001b[39;00m:       \n\u001b[0;32m----> 3\u001b[0m     name \u001b[38;5;241m=\u001b[39m \u001b[43mpyip\u001b[49m\u001b[38;5;241;43m.\u001b[39;49m\u001b[43minputstr\u001b[49m(\u001b[38;5;124m\"\u001b[39m\u001b[38;5;124m請輸入姓名：\u001b[39m\u001b[38;5;124m\"\u001b[39m)\n\u001b[1;32m      5\u001b[0m     height \u001b[38;5;241m=\u001b[39m pyip\u001b[38;5;241m.\u001b[39minputNum(\u001b[38;5;124m\"\u001b[39m\u001b[38;5;124m請輸入身高(cm)：\u001b[39m\u001b[38;5;124m\"\u001b[39m)\n\u001b[1;32m      7\u001b[0m     weight \u001b[38;5;241m=\u001b[39m pyip\u001b[38;5;241m.\u001b[39minputNum(\u001b[38;5;124m\"\u001b[39m\u001b[38;5;124m請輸入體重(kg)：\u001b[39m\u001b[38;5;124m\"\u001b[39m)\n",
      "\u001b[0;31mAttributeError\u001b[0m: module 'pyinputplus' has no attribute 'inputstr'"
     ]
    }
   ],
   "source": [
    "import pyinputplus as pyip\n",
    "while True:       \n",
    "    name = pyip.inputstr(\"請輸入姓名：\")\n",
    "    \n",
    "    height = pyip.inputNum(\"請輸入身高(cm)：\")\n",
    "     \n",
    "    weight = pyip.inputNum(\"請輸入體重(kg)：\")\n",
    "\n",
    "    bmi = weight/(height/100) ** 2\n",
    "    if bmi >= 35:\n",
    "        status = '重度肥胖'\n",
    "    elif bmi >= 30:\n",
    "        status = '中度肥胖'\n",
    "    elif bmi >= 27:\n",
    "        status = '輕度肥胖'\n",
    "    elif bmi >= 24:\n",
    "        status = '體重過重'\n",
    "    elif bmi >= 18.5:\n",
    "        status = '體重正常'\n",
    "    else:\n",
    "        status = '體重過輕'\n",
    "    print(f\"\"\"{name}你好\n",
    "    身高是：{height}公分\n",
    "    體重是：{weight}公斤\n",
    "    BMI:{round(bmi,ndigits=2)}\n",
    "    {status}\"\"\")\n",
    "\n",
    "    \n",
    "    answer=input(\"離開(q)or繼續(c)\")\n",
    "    if answer==\"q\":\n",
    "        break\n",
    "    \n",
    "        \n",
    "print(\"應用程式結束\")"
   ]
  }
 ],
 "metadata": {
  "kernelspec": {
   "display_name": "Python 3",
   "language": "python",
   "name": "python3"
  },
  "language_info": {
   "codemirror_mode": {
    "name": "ipython",
    "version": 3
   },
   "file_extension": ".py",
   "mimetype": "text/x-python",
   "name": "python",
   "nbconvert_exporter": "python",
   "pygments_lexer": "ipython3",
   "version": "3.11.9"
  }
 },
 "nbformat": 4,
 "nbformat_minor": 2
}
