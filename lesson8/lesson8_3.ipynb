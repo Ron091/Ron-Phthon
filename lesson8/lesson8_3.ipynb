{
 "cells": [
  {
   "cell_type": "code",
   "execution_count": 5,
   "metadata": {},
   "outputs": [
    {
     "name": "stdout",
     "output_type": "stream",
     "text": [
      "請輸入姓名：ron\n",
      "請輸入身高(cm)：170\n",
      "請輸入體重(kg)：\n",
      "63\n",
      "ron你好\n",
      "    身高是：170公分\n",
      "    體重是：63公斤\n",
      "    BMI:21.8\n",
      "    體重正常\n",
      "是否要再一次,是(Yes or Y),否(No or N)應用程式結束\n"
     ]
    }
   ],
   "source": [
    "import pyinputplus as pyip\n",
    "while True:       \n",
    "    name = pyip.inputStr(\"請輸入姓名：\")\n",
    "    print(name)\n",
    "\n",
    "    height = pyip.inputNum(\"請輸入身高(cm)：\")\n",
    "    print(height)\n",
    "\n",
    "    weight = pyip.inputNum(\"請輸入體重(kg)：\\n\")\n",
    "    print(weight)\n",
    "\n",
    "    bmi = weight/(height/100) ** 2\n",
    "    if bmi >= 35:\n",
    "        status = '重度肥胖'\n",
    "    elif bmi >= 30:\n",
    "        status = '中度肥胖'\n",
    "    elif bmi >= 27:\n",
    "        status = '輕度肥胖'\n",
    "    elif bmi >= 24:\n",
    "        status = '體重過重'\n",
    "    elif bmi >= 18.5:\n",
    "        status = '體重正常'\n",
    "    else:\n",
    "        status = '體重過輕'\n",
    "    print(f\"\"\"{name}你好\n",
    "    身高是：{height}公分\n",
    "    體重是：{weight}公斤\n",
    "    BMI:{round(bmi,ndigits=2)}\n",
    "    {status}\"\"\")\n",
    "\n",
    "    \n",
    "    answer=pyip.inputYesNo(\"是否要再一次,是(Yes or Y),否(No or N)\")\n",
    "    if answer==\"no\":\n",
    "        break\n",
    "    \n",
    "        \n",
    "print(\"\\n應用程式結束\")"
   ]
  },
  {
   "cell_type": "code",
   "execution_count": 26,
   "metadata": {},
   "outputs": [
    {
     "name": "stdout",
     "output_type": "stream",
     "text": [
      "Please select one of the following:\n",
      "A. 75\n",
      "B. 50\n",
      "C. 25\n"
     ]
    }
   ],
   "source": [
    "import pyinputplus as pyip\n",
    "result = pyip.inputMenu(['75', '50', '25'], lettered=True)"
   ]
  },
  {
   "cell_type": "code",
   "execution_count": 42,
   "metadata": {},
   "outputs": [
    {
     "name": "stdout",
     "output_type": "stream",
     "text": [
      "Ron Li\n",
      "李其融\n",
      "這是person實體,我的名字是:Ron Li\n",
      "這是person實體,我的名字是:李其融\n"
     ]
    }
   ],
   "source": [
    "class Person():\n",
    "\tdef __init__(self, name=str):\n",
    "\t\tself.name = name\n",
    "\t\n",
    "class Student(Person):\n",
    "\tdef __repr__(self):\n",
    "\t\treturn f\"這是person實體,我的名字是:{self.name}\"\n",
    "\t\t\n",
    "P1 = Student(\"Ron Li\")\n",
    "print(P1.name)\n",
    "\n",
    "P2 = Student(\"李其融\")\n",
    "print(P2.name)\n",
    "\n",
    "print(P1)\n",
    "\n",
    "print(P2)"
   ]
  },
  {
   "cell_type": "code",
   "execution_count": null,
   "metadata": {},
   "outputs": [],
   "source": [
    "class Person():\n",
    "\tdef __init__(self, n=str):\n",
    "\t\tself.name = n\n",
    "\tdef __repr__(self):\n",
    "\t\treturn \"這是person實體,我的名字是:{self.name}\"\n",
    "\t\n",
    "    print()"
   ]
  },
  {
   "cell_type": "code",
   "execution_count": 70,
   "metadata": {},
   "outputs": [
    {
     "name": "stdout",
     "output_type": "stream",
     "text": [
      "張同學\n",
      "78\n",
      "92\n",
      "69\n",
      "我是Student的實體\n",
      "=================\n",
      "王同學\n",
      "92\n",
      "79\n",
      "88\n",
      "我是Student的實體\n"
     ]
    }
   ],
   "source": [
    "class Student(Person):\n",
    "    def __init__(self,n:str, ch:int, en:int, ma:int):\n",
    "        super().__init__(n=n)\n",
    "        self.chinese = ch\n",
    "        self.english = en\n",
    "        self.math = ma\n",
    "\n",
    "    def __repr__(self):\n",
    "        return \"我是Student的實體\"\n",
    "\n",
    "s1 = Student(\"張同學\",ch=78,en=92,ma=69)\n",
    "print(s1.name)\n",
    "print(s1.chinese)\n",
    "print(s1.english)\n",
    "print(s1.math)\n",
    "print(s1)\n",
    "\n",
    "print(\"=================\")\n",
    "s2 = Student(\"王同學\",ch=92,en=79,ma=88)\n",
    "print(s2.name)\n",
    "print(s2.chinese)\n",
    "print(s2.english)\n",
    "print(s2.math)\n",
    "print(s2)"
   ]
  },
  {
   "cell_type": "code",
   "execution_count": null,
   "metadata": {},
   "outputs": [],
   "source": [
    "ㄏ"
   ]
  }
 ],
 "metadata": {
  "kernelspec": {
   "display_name": "Python 3",
   "language": "python",
   "name": "python3"
  },
  "language_info": {
   "codemirror_mode": {
    "name": "ipython",
    "version": 3
   },
   "file_extension": ".py",
   "mimetype": "text/x-python",
   "name": "python",
   "nbconvert_exporter": "python",
   "pygments_lexer": "ipython3",
   "version": "3.11.9"
  }
 },
 "nbformat": 4,
 "nbformat_minor": 2
}
